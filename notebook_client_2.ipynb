{
 "cells": [
  {
   "cell_type": "code",
   "execution_count": 1,
   "metadata": {},
   "outputs": [],
   "source": [
    "import requests"
   ]
  },
  {
   "cell_type": "code",
   "execution_count": 2,
   "metadata": {},
   "outputs": [
    {
     "data": {
      "text/plain": [
       "'Client number 2 connected to the simulation server'"
      ]
     },
     "execution_count": 2,
     "metadata": {},
     "output_type": "execute_result"
    }
   ],
   "source": [
    "# Check if we can connect to the server from this notebook\n",
    "server_url = 'http://localhost:5000'  \n",
    "endpoint_status = '/status'\n",
    "\n",
    "response = requests.get(server_url + endpoint_status)\n",
    "response.text"
   ]
  },
  {
   "cell_type": "code",
   "execution_count": 3,
   "metadata": {},
   "outputs": [
    {
     "name": "stdout",
     "output_type": "stream",
     "text": [
      "Agent color was green and is now blue\n"
     ]
    }
   ],
   "source": [
    "# Define the adress where we are going to make a POST request\n",
    "endpoint_change_color = '/change_agent_color'\n",
    "\n",
    "# Define a new color\n",
    "data = {'color': 'blue'}\n",
    "\n",
    "# Get and display the server's response\n",
    "response = requests.post(server_url + endpoint_change_color, json=data)\n",
    "print(response.json())"
   ]
  }
 ],
 "metadata": {
  "kernelspec": {
   "display_name": "Python 3",
   "language": "python",
   "name": "python3"
  },
  "language_info": {
   "codemirror_mode": {
    "name": "ipython",
    "version": 3
   },
   "file_extension": ".py",
   "mimetype": "text/x-python",
   "name": "python",
   "nbconvert_exporter": "python",
   "pygments_lexer": "ipython3",
   "version": "3.10.11"
  }
 },
 "nbformat": 4,
 "nbformat_minor": 2
}
